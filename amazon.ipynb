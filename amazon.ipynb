{
 "cells": [
  {
   "attachments": {},
   "cell_type": "markdown",
   "metadata": {},
   "source": [
    "# Dependencies"
   ]
  },
  {
   "cell_type": "code",
   "execution_count": 44,
   "metadata": {},
   "outputs": [],
   "source": [
    "import pandas as pd\n",
    "import numpy as np\n",
    "\n",
    "from tensorflow.keras.preprocessing.text import Tokenizer\n",
    "from tensorflow.keras.preprocessing.sequence import pad_sequences\n",
    "\n",
    "import tensorflow as tf\n"
   ]
  },
  {
   "attachments": {},
   "cell_type": "markdown",
   "metadata": {},
   "source": [
    "# Load data set and fist insights"
   ]
  },
  {
   "cell_type": "code",
   "execution_count": 214,
   "metadata": {},
   "outputs": [],
   "source": [
    "df = pd.read_csv(\"./amazon.csv\")"
   ]
  },
  {
   "cell_type": "code",
   "execution_count": 3,
   "metadata": {},
   "outputs": [
    {
     "data": {
      "text/html": [
       "<div>\n",
       "<style scoped>\n",
       "    .dataframe tbody tr th:only-of-type {\n",
       "        vertical-align: middle;\n",
       "    }\n",
       "\n",
       "    .dataframe tbody tr th {\n",
       "        vertical-align: top;\n",
       "    }\n",
       "\n",
       "    .dataframe thead th {\n",
       "        text-align: right;\n",
       "    }\n",
       "</style>\n",
       "<table border=\"1\" class=\"dataframe\">\n",
       "  <thead>\n",
       "    <tr style=\"text-align: right;\">\n",
       "      <th></th>\n",
       "      <th>product_id</th>\n",
       "      <th>product_name</th>\n",
       "      <th>category</th>\n",
       "      <th>discounted_price</th>\n",
       "      <th>actual_price</th>\n",
       "      <th>discount_percentage</th>\n",
       "      <th>rating</th>\n",
       "      <th>rating_count</th>\n",
       "      <th>about_product</th>\n",
       "      <th>user_id</th>\n",
       "      <th>user_name</th>\n",
       "      <th>review_id</th>\n",
       "      <th>review_title</th>\n",
       "      <th>review_content</th>\n",
       "      <th>img_link</th>\n",
       "      <th>product_link</th>\n",
       "    </tr>\n",
       "  </thead>\n",
       "  <tbody>\n",
       "    <tr>\n",
       "      <th>0</th>\n",
       "      <td>B07JW9H4J1</td>\n",
       "      <td>Wayona Nylon Braided USB to Lightning Fast Cha...</td>\n",
       "      <td>Computers&amp;Accessories|Accessories&amp;Peripherals|...</td>\n",
       "      <td>₹399</td>\n",
       "      <td>₹1,099</td>\n",
       "      <td>64%</td>\n",
       "      <td>4.2</td>\n",
       "      <td>24,269</td>\n",
       "      <td>High Compatibility : Compatible With iPhone 12...</td>\n",
       "      <td>AG3D6O4STAQKAY2UVGEUV46KN35Q,AHMY5CWJMMK5BJRBB...</td>\n",
       "      <td>Manav,Adarsh gupta,Sundeep,S.Sayeed Ahmed,jasp...</td>\n",
       "      <td>R3HXWT0LRP0NMF,R2AJM3LFTLZHFO,R6AQJGUP6P86,R1K...</td>\n",
       "      <td>Satisfied,Charging is really fast,Value for mo...</td>\n",
       "      <td>Looks durable Charging is fine tooNo complains...</td>\n",
       "      <td>https://m.media-amazon.com/images/W/WEBP_40237...</td>\n",
       "      <td>https://www.amazon.in/Wayona-Braided-WN3LG1-Sy...</td>\n",
       "    </tr>\n",
       "    <tr>\n",
       "      <th>1</th>\n",
       "      <td>B098NS6PVG</td>\n",
       "      <td>Ambrane Unbreakable 60W / 3A Fast Charging 1.5...</td>\n",
       "      <td>Computers&amp;Accessories|Accessories&amp;Peripherals|...</td>\n",
       "      <td>₹199</td>\n",
       "      <td>₹349</td>\n",
       "      <td>43%</td>\n",
       "      <td>4.0</td>\n",
       "      <td>43,994</td>\n",
       "      <td>Compatible with all Type C enabled devices, be...</td>\n",
       "      <td>AECPFYFQVRUWC3KGNLJIOREFP5LQ,AGYYVPDD7YG7FYNBX...</td>\n",
       "      <td>ArdKn,Nirbhay kumar,Sagar Viswanathan,Asp,Plac...</td>\n",
       "      <td>RGIQEG07R9HS2,R1SMWZQ86XIN8U,R2J3Y1WL29GWDE,RY...</td>\n",
       "      <td>A Good Braided Cable for Your Type C Device,Go...</td>\n",
       "      <td>I ordered this cable to connect my phone to An...</td>\n",
       "      <td>https://m.media-amazon.com/images/W/WEBP_40237...</td>\n",
       "      <td>https://www.amazon.in/Ambrane-Unbreakable-Char...</td>\n",
       "    </tr>\n",
       "    <tr>\n",
       "      <th>2</th>\n",
       "      <td>B096MSW6CT</td>\n",
       "      <td>Sounce Fast Phone Charging Cable &amp; Data Sync U...</td>\n",
       "      <td>Computers&amp;Accessories|Accessories&amp;Peripherals|...</td>\n",
       "      <td>₹199</td>\n",
       "      <td>₹1,899</td>\n",
       "      <td>90%</td>\n",
       "      <td>3.9</td>\n",
       "      <td>7,928</td>\n",
       "      <td>【 Fast Charger&amp; Data Sync】-With built-in safet...</td>\n",
       "      <td>AGU3BBQ2V2DDAMOAKGFAWDDQ6QHA,AESFLDV2PT363T2AQ...</td>\n",
       "      <td>Kunal,Himanshu,viswanath,sai niharka,saqib mal...</td>\n",
       "      <td>R3J3EQQ9TZI5ZJ,R3E7WBGK7ID0KV,RWU79XKQ6I1QF,R2...</td>\n",
       "      <td>Good speed for earlier versions,Good Product,W...</td>\n",
       "      <td>Not quite durable and sturdy,https://m.media-a...</td>\n",
       "      <td>https://m.media-amazon.com/images/W/WEBP_40237...</td>\n",
       "      <td>https://www.amazon.in/Sounce-iPhone-Charging-C...</td>\n",
       "    </tr>\n",
       "    <tr>\n",
       "      <th>3</th>\n",
       "      <td>B08HDJ86NZ</td>\n",
       "      <td>boAt Deuce USB 300 2 in 1 Type-C &amp; Micro USB S...</td>\n",
       "      <td>Computers&amp;Accessories|Accessories&amp;Peripherals|...</td>\n",
       "      <td>₹329</td>\n",
       "      <td>₹699</td>\n",
       "      <td>53%</td>\n",
       "      <td>4.2</td>\n",
       "      <td>94,363</td>\n",
       "      <td>The boAt Deuce USB 300 2 in 1 cable is compati...</td>\n",
       "      <td>AEWAZDZZJLQUYVOVGBEUKSLXHQ5A,AG5HTSFRRE6NL3M5S...</td>\n",
       "      <td>Omkar dhale,JD,HEMALATHA,Ajwadh a.,amar singh ...</td>\n",
       "      <td>R3EEUZKKK9J36I,R3HJVYCLYOY554,REDECAZ7AMPQC,R1...</td>\n",
       "      <td>Good product,Good one,Nice,Really nice product...</td>\n",
       "      <td>Good product,long wire,Charges good,Nice,I bou...</td>\n",
       "      <td>https://m.media-amazon.com/images/I/41V5FtEWPk...</td>\n",
       "      <td>https://www.amazon.in/Deuce-300-Resistant-Tang...</td>\n",
       "    </tr>\n",
       "    <tr>\n",
       "      <th>4</th>\n",
       "      <td>B08CF3B7N1</td>\n",
       "      <td>Portronics Konnect L 1.2M Fast Charging 3A 8 P...</td>\n",
       "      <td>Computers&amp;Accessories|Accessories&amp;Peripherals|...</td>\n",
       "      <td>₹154</td>\n",
       "      <td>₹399</td>\n",
       "      <td>61%</td>\n",
       "      <td>4.2</td>\n",
       "      <td>16,905</td>\n",
       "      <td>[CHARGE &amp; SYNC FUNCTION]- This cable comes wit...</td>\n",
       "      <td>AE3Q6KSUK5P75D5HFYHCRAOLODSA,AFUGIFH5ZAFXRDSZH...</td>\n",
       "      <td>rahuls6099,Swasat Borah,Ajay Wadke,Pranali,RVK...</td>\n",
       "      <td>R1BP4L2HH9TFUP,R16PVJEXKV6QZS,R2UPDB81N66T4P,R...</td>\n",
       "      <td>As good as original,Decent,Good one for second...</td>\n",
       "      <td>Bought this instead of original apple, does th...</td>\n",
       "      <td>https://m.media-amazon.com/images/W/WEBP_40237...</td>\n",
       "      <td>https://www.amazon.in/Portronics-Konnect-POR-1...</td>\n",
       "    </tr>\n",
       "  </tbody>\n",
       "</table>\n",
       "</div>"
      ],
      "text/plain": [
       "   product_id                                       product_name  \\\n",
       "0  B07JW9H4J1  Wayona Nylon Braided USB to Lightning Fast Cha...   \n",
       "1  B098NS6PVG  Ambrane Unbreakable 60W / 3A Fast Charging 1.5...   \n",
       "2  B096MSW6CT  Sounce Fast Phone Charging Cable & Data Sync U...   \n",
       "3  B08HDJ86NZ  boAt Deuce USB 300 2 in 1 Type-C & Micro USB S...   \n",
       "4  B08CF3B7N1  Portronics Konnect L 1.2M Fast Charging 3A 8 P...   \n",
       "\n",
       "                                            category discounted_price  \\\n",
       "0  Computers&Accessories|Accessories&Peripherals|...             ₹399   \n",
       "1  Computers&Accessories|Accessories&Peripherals|...             ₹199   \n",
       "2  Computers&Accessories|Accessories&Peripherals|...             ₹199   \n",
       "3  Computers&Accessories|Accessories&Peripherals|...             ₹329   \n",
       "4  Computers&Accessories|Accessories&Peripherals|...             ₹154   \n",
       "\n",
       "  actual_price discount_percentage rating rating_count  \\\n",
       "0       ₹1,099                 64%    4.2       24,269   \n",
       "1         ₹349                 43%    4.0       43,994   \n",
       "2       ₹1,899                 90%    3.9        7,928   \n",
       "3         ₹699                 53%    4.2       94,363   \n",
       "4         ₹399                 61%    4.2       16,905   \n",
       "\n",
       "                                       about_product  \\\n",
       "0  High Compatibility : Compatible With iPhone 12...   \n",
       "1  Compatible with all Type C enabled devices, be...   \n",
       "2  【 Fast Charger& Data Sync】-With built-in safet...   \n",
       "3  The boAt Deuce USB 300 2 in 1 cable is compati...   \n",
       "4  [CHARGE & SYNC FUNCTION]- This cable comes wit...   \n",
       "\n",
       "                                             user_id  \\\n",
       "0  AG3D6O4STAQKAY2UVGEUV46KN35Q,AHMY5CWJMMK5BJRBB...   \n",
       "1  AECPFYFQVRUWC3KGNLJIOREFP5LQ,AGYYVPDD7YG7FYNBX...   \n",
       "2  AGU3BBQ2V2DDAMOAKGFAWDDQ6QHA,AESFLDV2PT363T2AQ...   \n",
       "3  AEWAZDZZJLQUYVOVGBEUKSLXHQ5A,AG5HTSFRRE6NL3M5S...   \n",
       "4  AE3Q6KSUK5P75D5HFYHCRAOLODSA,AFUGIFH5ZAFXRDSZH...   \n",
       "\n",
       "                                           user_name  \\\n",
       "0  Manav,Adarsh gupta,Sundeep,S.Sayeed Ahmed,jasp...   \n",
       "1  ArdKn,Nirbhay kumar,Sagar Viswanathan,Asp,Plac...   \n",
       "2  Kunal,Himanshu,viswanath,sai niharka,saqib mal...   \n",
       "3  Omkar dhale,JD,HEMALATHA,Ajwadh a.,amar singh ...   \n",
       "4  rahuls6099,Swasat Borah,Ajay Wadke,Pranali,RVK...   \n",
       "\n",
       "                                           review_id  \\\n",
       "0  R3HXWT0LRP0NMF,R2AJM3LFTLZHFO,R6AQJGUP6P86,R1K...   \n",
       "1  RGIQEG07R9HS2,R1SMWZQ86XIN8U,R2J3Y1WL29GWDE,RY...   \n",
       "2  R3J3EQQ9TZI5ZJ,R3E7WBGK7ID0KV,RWU79XKQ6I1QF,R2...   \n",
       "3  R3EEUZKKK9J36I,R3HJVYCLYOY554,REDECAZ7AMPQC,R1...   \n",
       "4  R1BP4L2HH9TFUP,R16PVJEXKV6QZS,R2UPDB81N66T4P,R...   \n",
       "\n",
       "                                        review_title  \\\n",
       "0  Satisfied,Charging is really fast,Value for mo...   \n",
       "1  A Good Braided Cable for Your Type C Device,Go...   \n",
       "2  Good speed for earlier versions,Good Product,W...   \n",
       "3  Good product,Good one,Nice,Really nice product...   \n",
       "4  As good as original,Decent,Good one for second...   \n",
       "\n",
       "                                      review_content  \\\n",
       "0  Looks durable Charging is fine tooNo complains...   \n",
       "1  I ordered this cable to connect my phone to An...   \n",
       "2  Not quite durable and sturdy,https://m.media-a...   \n",
       "3  Good product,long wire,Charges good,Nice,I bou...   \n",
       "4  Bought this instead of original apple, does th...   \n",
       "\n",
       "                                            img_link  \\\n",
       "0  https://m.media-amazon.com/images/W/WEBP_40237...   \n",
       "1  https://m.media-amazon.com/images/W/WEBP_40237...   \n",
       "2  https://m.media-amazon.com/images/W/WEBP_40237...   \n",
       "3  https://m.media-amazon.com/images/I/41V5FtEWPk...   \n",
       "4  https://m.media-amazon.com/images/W/WEBP_40237...   \n",
       "\n",
       "                                        product_link  \n",
       "0  https://www.amazon.in/Wayona-Braided-WN3LG1-Sy...  \n",
       "1  https://www.amazon.in/Ambrane-Unbreakable-Char...  \n",
       "2  https://www.amazon.in/Sounce-iPhone-Charging-C...  \n",
       "3  https://www.amazon.in/Deuce-300-Resistant-Tang...  \n",
       "4  https://www.amazon.in/Portronics-Konnect-POR-1...  "
      ]
     },
     "execution_count": 3,
     "metadata": {},
     "output_type": "execute_result"
    }
   ],
   "source": [
    "df.head()"
   ]
  },
  {
   "cell_type": "code",
   "execution_count": 4,
   "metadata": {},
   "outputs": [
    {
     "data": {
      "text/plain": [
       "(1465, 16)"
      ]
     },
     "execution_count": 4,
     "metadata": {},
     "output_type": "execute_result"
    }
   ],
   "source": [
    "df.shape"
   ]
  },
  {
   "cell_type": "code",
   "execution_count": 6,
   "metadata": {},
   "outputs": [
    {
     "name": "stdout",
     "output_type": "stream",
     "text": [
      "<class 'pandas.core.frame.DataFrame'>\n",
      "RangeIndex: 1465 entries, 0 to 1464\n",
      "Data columns (total 16 columns):\n",
      " #   Column               Non-Null Count  Dtype \n",
      "---  ------               --------------  ----- \n",
      " 0   product_id           1465 non-null   object\n",
      " 1   product_name         1465 non-null   object\n",
      " 2   category             1465 non-null   object\n",
      " 3   discounted_price     1465 non-null   object\n",
      " 4   actual_price         1465 non-null   object\n",
      " 5   discount_percentage  1465 non-null   object\n",
      " 6   rating               1465 non-null   object\n",
      " 7   rating_count         1463 non-null   object\n",
      " 8   about_product        1465 non-null   object\n",
      " 9   user_id              1465 non-null   object\n",
      " 10  user_name            1465 non-null   object\n",
      " 11  review_id            1465 non-null   object\n",
      " 12  review_title         1465 non-null   object\n",
      " 13  review_content       1465 non-null   object\n",
      " 14  img_link             1465 non-null   object\n",
      " 15  product_link         1465 non-null   object\n",
      "dtypes: object(16)\n",
      "memory usage: 183.2+ KB\n"
     ]
    }
   ],
   "source": [
    "df.info()"
   ]
  },
  {
   "attachments": {},
   "cell_type": "markdown",
   "metadata": {},
   "source": [
    "# Set column to be used on classification"
   ]
  },
  {
   "attachments": {},
   "cell_type": "markdown",
   "metadata": {},
   "source": [
    "I will set a product as bestseller when the sales are above 0.90 quartile."
   ]
  },
  {
   "cell_type": "code",
   "execution_count": 226,
   "metadata": {},
   "outputs": [],
   "source": [
    "df.rating_count.fillna(0, inplace=True)"
   ]
  },
  {
   "cell_type": "code",
   "execution_count": 227,
   "metadata": {},
   "outputs": [],
   "source": [
    "def salesToInt(x):\n",
    "    if \",\" in str(x):\n",
    "        int_split = x.split(\",\")\n",
    "        return int(int_split[0]+int_split[1])\n",
    "    \n",
    "    return int(x)\n",
    "\n",
    "df[\"sales\"] = df.rating_count.apply(lambda x : salesToInt(x))"
   ]
  },
  {
   "cell_type": "code",
   "execution_count": 231,
   "metadata": {},
   "outputs": [
    {
     "data": {
      "text/plain": [
       "0.25      928.0\n",
       "0.50     4415.0\n",
       "0.75    14629.0\n",
       "0.90    30411.0\n",
       "Name: sales, dtype: float64"
      ]
     },
     "execution_count": 231,
     "metadata": {},
     "output_type": "execute_result"
    }
   ],
   "source": [
    "df['sales'].quantile([0.25, 0.5, 0.75,0.90])"
   ]
  },
  {
   "cell_type": "code",
   "execution_count": 309,
   "metadata": {},
   "outputs": [],
   "source": [
    "# this function set a quality value based on rating\n",
    "def setCategorization(sales):\n",
    "    \n",
    "    if sales >= 30411:\n",
    "        return 1 # Best sellers\n",
    "    \n",
    "    return 0 # regular\n",
    "\n",
    "# save quality value on a new column \"quality\"\n",
    "df[\"product_category\"] = df.sales.apply(lambda x: setCategorization(x))"
   ]
  },
  {
   "attachments": {},
   "cell_type": "markdown",
   "metadata": {},
   "source": [
    "I will also create a single field with both product name and description."
   ]
  },
  {
   "cell_type": "code",
   "execution_count": 283,
   "metadata": {},
   "outputs": [],
   "source": [
    "df[\"description\"] = df.product_name + \"|\" + df.about_product"
   ]
  },
  {
   "attachments": {},
   "cell_type": "markdown",
   "metadata": {},
   "source": [
    "# Keras Tokenizer"
   ]
  },
  {
   "attachments": {},
   "cell_type": "markdown",
   "metadata": {},
   "source": [
    "Now we move trought the model with a Tensorflow Keras tokenizer. It will first building a vocabulary of all unique words in the text data. Then, each word is assigned a unique integer value. The Tokenizer then replaces each word in the text with its corresponding integer value."
   ]
  },
  {
   "cell_type": "code",
   "execution_count": 246,
   "metadata": {},
   "outputs": [],
   "source": [
    "# intializing keras tokenizer\n",
    "tokenizer = Tokenizer(oov_token=\"<OOV>\")"
   ]
  },
  {
   "cell_type": "code",
   "execution_count": 310,
   "metadata": {},
   "outputs": [],
   "source": [
    "from sklearn.model_selection import train_test_split\n",
    "\n",
    "X = df[\"description\"]\n",
    "y = df[\"product_category\"]\n",
    "\n",
    "X_train, X_test, y_train, y_test = train_test_split(X,y,train_size=0.8, random_state=1901)\n",
    "\n"
   ]
  },
  {
   "cell_type": "code",
   "execution_count": 311,
   "metadata": {},
   "outputs": [],
   "source": [
    "# set all parameter\n",
    "num_words = 5000\n",
    "embedding_dim = 16\n",
    "maxlen = 150\n",
    "truncating = 'post'\n",
    "oov_token = '<OOV>'\n",
    "padding_type = 'post'"
   ]
  },
  {
   "cell_type": "code",
   "execution_count": 312,
   "metadata": {},
   "outputs": [],
   "source": [
    "#create the tokenizer for x_train\n",
    "tokenizer = Tokenizer(num_words=num_words, oov_token=oov_token)\n",
    "tokenizer.fit_on_texts(X_train)\n",
    "word_index = tokenizer.word_index"
   ]
  },
  {
   "cell_type": "code",
   "execution_count": 301,
   "metadata": {},
   "outputs": [],
   "source": [
    "sequences = tokenizer.texts_to_sequences(X_train)\n",
    "padded = pad_sequences(sequences, maxlen=maxlen, truncating=truncating)\n",
    "testing_sentences = tokenizer.texts_to_sequences(X_test)\n",
    "testing_padded = pad_sequences(testing_sentences, maxlen=maxlen)"
   ]
  },
  {
   "cell_type": "code",
   "execution_count": 313,
   "metadata": {},
   "outputs": [],
   "source": [
    "#initialize model whit basic hyper parameters\n",
    "model = tf.keras.Sequential([\n",
    "    tf.keras.layers.Embedding(num_words,  embedding_dim, input_length=maxlen),\n",
    "    tf.keras.layers.LSTM(64, dropout=0.1,use_bias = False),\n",
    "    tf.keras.layers.Dense(32, activation='relu'),\n",
    "    tf.keras.layers.Dense(16, activation='tanh'),\n",
    "    tf.keras.layers.Dense(4, activation=\"relu\"),\n",
    "    tf.keras.layers.Dense(1, activation='sigmoid')\n",
    "])"
   ]
  },
  {
   "cell_type": "code",
   "execution_count": 314,
   "metadata": {},
   "outputs": [],
   "source": [
    "# set a loss, optimizer and metric\n",
    "model.compile(loss='BinaryCrossentropy', optimizer='adam', metrics=['accuracy'])"
   ]
  },
  {
   "cell_type": "code",
   "execution_count": 304,
   "metadata": {},
   "outputs": [
    {
     "name": "stdout",
     "output_type": "stream",
     "text": [
      "Model: \"sequential_22\"\n",
      "_________________________________________________________________\n",
      " Layer (type)                Output Shape              Param #   \n",
      "=================================================================\n",
      " embedding_22 (Embedding)    (None, 150, 16)           80000     \n",
      "                                                                 \n",
      " lstm_16 (LSTM)              (None, 64)                20480     \n",
      "                                                                 \n",
      " dense_74 (Dense)            (None, 32)                2080      \n",
      "                                                                 \n",
      " dense_75 (Dense)            (None, 16)                528       \n",
      "                                                                 \n",
      " dense_76 (Dense)            (None, 4)                 68        \n",
      "                                                                 \n",
      " dense_77 (Dense)            (None, 1)                 5         \n",
      "                                                                 \n",
      "=================================================================\n",
      "Total params: 103,161\n",
      "Trainable params: 103,161\n",
      "Non-trainable params: 0\n",
      "_________________________________________________________________\n"
     ]
    }
   ],
   "source": [
    "model.summary()"
   ]
  },
  {
   "cell_type": "code",
   "execution_count": 315,
   "metadata": {},
   "outputs": [],
   "source": [
    "# y_train and y_test to array\n",
    "y_train_arr = np.array(y_train)\n",
    "y_test_arr = np.array(y_test)"
   ]
  },
  {
   "cell_type": "code",
   "execution_count": 316,
   "metadata": {},
   "outputs": [
    {
     "name": "stdout",
     "output_type": "stream",
     "text": [
      "Epoch 1/100\n",
      "37/37 [==============================] - 2s 35ms/step - loss: 0.6140 - accuracy: 0.8874 - val_loss: 0.3964 - val_accuracy: 0.9078\n",
      "Epoch 2/100\n",
      "37/37 [==============================] - 1s 30ms/step - loss: 0.3473 - accuracy: 0.8968 - val_loss: 0.3189 - val_accuracy: 0.9078\n",
      "Epoch 3/100\n",
      "37/37 [==============================] - 1s 31ms/step - loss: 0.3342 - accuracy: 0.8968 - val_loss: 0.3077 - val_accuracy: 0.9078\n",
      "Epoch 4/100\n",
      "37/37 [==============================] - 1s 32ms/step - loss: 0.3323 - accuracy: 0.8968 - val_loss: 0.3087 - val_accuracy: 0.9078\n",
      "Epoch 5/100\n",
      "37/37 [==============================] - 1s 31ms/step - loss: 0.3327 - accuracy: 0.8968 - val_loss: 0.3073 - val_accuracy: 0.9078\n",
      "Epoch 6/100\n",
      "37/37 [==============================] - 1s 30ms/step - loss: 0.3318 - accuracy: 0.8968 - val_loss: 0.3078 - val_accuracy: 0.9078\n",
      "Epoch 7/100\n",
      "37/37 [==============================] - 1s 32ms/step - loss: 0.3220 - accuracy: 0.8968 - val_loss: 0.2910 - val_accuracy: 0.9078\n",
      "Epoch 8/100\n",
      "37/37 [==============================] - 1s 32ms/step - loss: 0.2321 - accuracy: 0.9087 - val_loss: 0.2642 - val_accuracy: 0.9010\n",
      "Epoch 9/100\n",
      "37/37 [==============================] - 1s 33ms/step - loss: 0.1360 - accuracy: 0.9590 - val_loss: 0.2723 - val_accuracy: 0.9147\n",
      "Epoch 10/100\n",
      "37/37 [==============================] - 1s 31ms/step - loss: 0.0830 - accuracy: 0.9735 - val_loss: 0.3062 - val_accuracy: 0.9147\n",
      "Epoch 11/100\n",
      "37/37 [==============================] - 1s 33ms/step - loss: 0.0589 - accuracy: 0.9812 - val_loss: 0.3234 - val_accuracy: 0.8840\n",
      "Epoch 12/100\n",
      "37/37 [==============================] - 1s 32ms/step - loss: 0.0480 - accuracy: 0.9863 - val_loss: 0.3953 - val_accuracy: 0.8567\n",
      "Epoch 13/100\n",
      "37/37 [==============================] - 1s 31ms/step - loss: 0.0388 - accuracy: 0.9898 - val_loss: 0.3965 - val_accuracy: 0.8601\n",
      "Epoch 14/100\n",
      "37/37 [==============================] - 1s 34ms/step - loss: 0.0383 - accuracy: 0.9906 - val_loss: 0.4083 - val_accuracy: 0.8805\n",
      "Epoch 15/100\n",
      "37/37 [==============================] - 1s 32ms/step - loss: 0.0182 - accuracy: 0.9957 - val_loss: 0.4283 - val_accuracy: 0.8874\n",
      "Epoch 16/100\n",
      "37/37 [==============================] - 1s 33ms/step - loss: 0.0118 - accuracy: 0.9966 - val_loss: 0.5064 - val_accuracy: 0.8498\n",
      "Epoch 17/100\n",
      "37/37 [==============================] - 1s 34ms/step - loss: 0.0415 - accuracy: 0.9889 - val_loss: 0.3847 - val_accuracy: 0.8908\n",
      "Epoch 18/100\n",
      "37/37 [==============================] - 1s 32ms/step - loss: 0.0289 - accuracy: 0.9915 - val_loss: 0.3594 - val_accuracy: 0.8908\n",
      "Epoch 19/100\n",
      "37/37 [==============================] - 1s 32ms/step - loss: 0.0316 - accuracy: 0.9932 - val_loss: 0.4151 - val_accuracy: 0.9147\n",
      "Epoch 20/100\n",
      "37/37 [==============================] - 1s 33ms/step - loss: 0.0200 - accuracy: 0.9940 - val_loss: 0.4365 - val_accuracy: 0.9010\n",
      "Epoch 21/100\n",
      "37/37 [==============================] - 1s 33ms/step - loss: 0.0146 - accuracy: 0.9966 - val_loss: 0.4395 - val_accuracy: 0.9010\n",
      "Epoch 22/100\n",
      "37/37 [==============================] - 1s 38ms/step - loss: 0.0123 - accuracy: 0.9974 - val_loss: 0.4488 - val_accuracy: 0.8976\n",
      "Epoch 23/100\n",
      "37/37 [==============================] - 1s 39ms/step - loss: 0.0170 - accuracy: 0.9949 - val_loss: 0.4803 - val_accuracy: 0.8737\n",
      "Epoch 24/100\n",
      "37/37 [==============================] - 1s 38ms/step - loss: 0.0275 - accuracy: 0.9906 - val_loss: 0.4733 - val_accuracy: 0.9078\n",
      "Epoch 25/100\n",
      "37/37 [==============================] - 1s 38ms/step - loss: 0.0118 - accuracy: 0.9957 - val_loss: 0.4794 - val_accuracy: 0.9181\n",
      "Epoch 26/100\n",
      "37/37 [==============================] - 1s 39ms/step - loss: 0.0142 - accuracy: 0.9949 - val_loss: 0.5017 - val_accuracy: 0.9010\n",
      "Epoch 27/100\n",
      "37/37 [==============================] - 1s 39ms/step - loss: 0.0183 - accuracy: 0.9957 - val_loss: 0.5059 - val_accuracy: 0.8976\n",
      "Epoch 28/100\n",
      "37/37 [==============================] - 2s 42ms/step - loss: 0.0085 - accuracy: 0.9974 - val_loss: 0.5119 - val_accuracy: 0.8942\n",
      "Epoch 29/100\n",
      "37/37 [==============================] - 2s 41ms/step - loss: 0.0084 - accuracy: 0.9983 - val_loss: 0.5598 - val_accuracy: 0.8635\n",
      "Epoch 30/100\n",
      "37/37 [==============================] - 1s 40ms/step - loss: 0.0067 - accuracy: 0.9991 - val_loss: 0.5298 - val_accuracy: 0.9044\n",
      "Epoch 31/100\n",
      "37/37 [==============================] - 1s 39ms/step - loss: 0.0069 - accuracy: 0.9983 - val_loss: 0.5456 - val_accuracy: 0.9010\n",
      "Epoch 32/100\n",
      "37/37 [==============================] - 1s 39ms/step - loss: 0.0047 - accuracy: 0.9991 - val_loss: 0.5508 - val_accuracy: 0.9113\n",
      "Epoch 33/100\n",
      "37/37 [==============================] - 1s 39ms/step - loss: 0.0039 - accuracy: 0.9991 - val_loss: 0.5664 - val_accuracy: 0.9078\n",
      "Epoch 34/100\n",
      "37/37 [==============================] - 1s 38ms/step - loss: 0.0010 - accuracy: 1.0000 - val_loss: 0.5723 - val_accuracy: 0.9078\n",
      "Epoch 35/100\n",
      "37/37 [==============================] - 1s 38ms/step - loss: 8.7038e-04 - accuracy: 1.0000 - val_loss: 0.5878 - val_accuracy: 0.9044\n",
      "Epoch 36/100\n",
      "37/37 [==============================] - 2s 42ms/step - loss: 0.0011 - accuracy: 1.0000 - val_loss: 0.5697 - val_accuracy: 0.9215\n",
      "Epoch 37/100\n",
      "37/37 [==============================] - 1s 39ms/step - loss: 0.0072 - accuracy: 0.9983 - val_loss: 0.5818 - val_accuracy: 0.9113\n",
      "Epoch 38/100\n",
      "37/37 [==============================] - 1s 38ms/step - loss: 7.7695e-04 - accuracy: 1.0000 - val_loss: 0.6061 - val_accuracy: 0.9044\n",
      "Epoch 39/100\n",
      "37/37 [==============================] - 1s 40ms/step - loss: 5.0947e-04 - accuracy: 1.0000 - val_loss: 0.6161 - val_accuracy: 0.9044\n",
      "Epoch 40/100\n",
      "37/37 [==============================] - 2s 41ms/step - loss: 4.7023e-04 - accuracy: 1.0000 - val_loss: 0.6230 - val_accuracy: 0.9044\n",
      "Epoch 41/100\n",
      "37/37 [==============================] - 1s 39ms/step - loss: 4.4261e-04 - accuracy: 1.0000 - val_loss: 0.6279 - val_accuracy: 0.9044\n",
      "Epoch 42/100\n",
      "37/37 [==============================] - 2s 41ms/step - loss: 4.1285e-04 - accuracy: 1.0000 - val_loss: 0.6328 - val_accuracy: 0.9044\n",
      "Epoch 43/100\n",
      "37/37 [==============================] - 1s 38ms/step - loss: 3.8083e-04 - accuracy: 1.0000 - val_loss: 0.6391 - val_accuracy: 0.9044\n",
      "Epoch 44/100\n",
      "37/37 [==============================] - 1s 38ms/step - loss: 3.5612e-04 - accuracy: 1.0000 - val_loss: 0.6448 - val_accuracy: 0.9044\n",
      "Epoch 45/100\n",
      "37/37 [==============================] - 1s 39ms/step - loss: 3.3310e-04 - accuracy: 1.0000 - val_loss: 0.6495 - val_accuracy: 0.9044\n",
      "Epoch 46/100\n",
      "37/37 [==============================] - 2s 42ms/step - loss: 3.1905e-04 - accuracy: 1.0000 - val_loss: 0.6547 - val_accuracy: 0.9044\n",
      "Epoch 47/100\n",
      "37/37 [==============================] - 1s 38ms/step - loss: 3.0503e-04 - accuracy: 1.0000 - val_loss: 0.6593 - val_accuracy: 0.9044\n",
      "Epoch 48/100\n",
      "37/37 [==============================] - 1s 38ms/step - loss: 2.8679e-04 - accuracy: 1.0000 - val_loss: 0.6635 - val_accuracy: 0.9044\n",
      "Epoch 49/100\n",
      "37/37 [==============================] - 1s 40ms/step - loss: 2.7081e-04 - accuracy: 1.0000 - val_loss: 0.6687 - val_accuracy: 0.9044\n",
      "Epoch 50/100\n",
      "37/37 [==============================] - 2s 42ms/step - loss: 2.5132e-04 - accuracy: 1.0000 - val_loss: 0.6729 - val_accuracy: 0.9044\n",
      "Epoch 51/100\n",
      "37/37 [==============================] - 1s 38ms/step - loss: 2.4009e-04 - accuracy: 1.0000 - val_loss: 0.6776 - val_accuracy: 0.9044\n",
      "Epoch 52/100\n",
      "37/37 [==============================] - 1s 38ms/step - loss: 2.3353e-04 - accuracy: 1.0000 - val_loss: 0.6828 - val_accuracy: 0.9044\n",
      "Epoch 53/100\n",
      "37/37 [==============================] - 1s 37ms/step - loss: 2.1806e-04 - accuracy: 1.0000 - val_loss: 0.6874 - val_accuracy: 0.9010\n",
      "Epoch 54/100\n",
      "37/37 [==============================] - 1s 38ms/step - loss: 2.0548e-04 - accuracy: 1.0000 - val_loss: 0.6909 - val_accuracy: 0.9010\n",
      "Epoch 55/100\n",
      "37/37 [==============================] - 1s 38ms/step - loss: 1.9694e-04 - accuracy: 1.0000 - val_loss: 0.6950 - val_accuracy: 0.9010\n",
      "Epoch 56/100\n",
      "37/37 [==============================] - 1s 37ms/step - loss: 1.8868e-04 - accuracy: 1.0000 - val_loss: 0.6991 - val_accuracy: 0.9010\n",
      "Epoch 57/100\n",
      "37/37 [==============================] - 1s 40ms/step - loss: 1.8109e-04 - accuracy: 1.0000 - val_loss: 0.7033 - val_accuracy: 0.9010\n",
      "Epoch 58/100\n",
      "37/37 [==============================] - 1s 38ms/step - loss: 1.7107e-04 - accuracy: 1.0000 - val_loss: 0.7073 - val_accuracy: 0.9010\n",
      "Epoch 59/100\n",
      "37/37 [==============================] - 1s 38ms/step - loss: 1.6760e-04 - accuracy: 1.0000 - val_loss: 0.7116 - val_accuracy: 0.9010\n",
      "Epoch 60/100\n",
      "37/37 [==============================] - 1s 40ms/step - loss: 1.5780e-04 - accuracy: 1.0000 - val_loss: 0.7155 - val_accuracy: 0.9010\n",
      "Epoch 61/100\n",
      "37/37 [==============================] - 2s 41ms/step - loss: 1.5261e-04 - accuracy: 1.0000 - val_loss: 0.7192 - val_accuracy: 0.9010\n",
      "Epoch 62/100\n",
      "37/37 [==============================] - 1s 39ms/step - loss: 1.4427e-04 - accuracy: 1.0000 - val_loss: 0.7228 - val_accuracy: 0.9010\n",
      "Epoch 63/100\n",
      "37/37 [==============================] - 1s 39ms/step - loss: 1.3919e-04 - accuracy: 1.0000 - val_loss: 0.7259 - val_accuracy: 0.9010\n",
      "Epoch 64/100\n",
      "37/37 [==============================] - 1s 38ms/step - loss: 1.3472e-04 - accuracy: 1.0000 - val_loss: 0.7300 - val_accuracy: 0.9010\n",
      "Epoch 65/100\n",
      "37/37 [==============================] - 1s 40ms/step - loss: 1.2851e-04 - accuracy: 1.0000 - val_loss: 0.7328 - val_accuracy: 0.9010\n",
      "Epoch 66/100\n",
      "37/37 [==============================] - 2s 41ms/step - loss: 1.2787e-04 - accuracy: 1.0000 - val_loss: 0.7339 - val_accuracy: 0.9010\n",
      "Epoch 67/100\n",
      "37/37 [==============================] - 1s 39ms/step - loss: 1.1876e-04 - accuracy: 1.0000 - val_loss: 0.7372 - val_accuracy: 0.9010\n",
      "Epoch 68/100\n",
      "37/37 [==============================] - 1s 38ms/step - loss: 1.1369e-04 - accuracy: 1.0000 - val_loss: 0.7406 - val_accuracy: 0.9010\n",
      "Epoch 69/100\n",
      "37/37 [==============================] - 2s 41ms/step - loss: 1.1155e-04 - accuracy: 1.0000 - val_loss: 0.7444 - val_accuracy: 0.9010\n",
      "Epoch 70/100\n",
      "37/37 [==============================] - 2s 41ms/step - loss: 1.0720e-04 - accuracy: 1.0000 - val_loss: 0.7479 - val_accuracy: 0.9010\n",
      "Epoch 71/100\n",
      "37/37 [==============================] - 2s 43ms/step - loss: 1.0285e-04 - accuracy: 1.0000 - val_loss: 0.7508 - val_accuracy: 0.9010\n",
      "Epoch 72/100\n",
      "37/37 [==============================] - 1s 40ms/step - loss: 9.9314e-05 - accuracy: 1.0000 - val_loss: 0.7537 - val_accuracy: 0.9010\n",
      "Epoch 73/100\n",
      "37/37 [==============================] - 1s 35ms/step - loss: 9.4538e-05 - accuracy: 1.0000 - val_loss: 0.7566 - val_accuracy: 0.9010\n",
      "Epoch 74/100\n",
      "37/37 [==============================] - 1s 39ms/step - loss: 9.3369e-05 - accuracy: 1.0000 - val_loss: 0.7580 - val_accuracy: 0.9010\n",
      "Epoch 75/100\n",
      "37/37 [==============================] - 1s 40ms/step - loss: 8.9213e-05 - accuracy: 1.0000 - val_loss: 0.7612 - val_accuracy: 0.9010\n",
      "Epoch 76/100\n",
      "37/37 [==============================] - 2s 42ms/step - loss: 8.6216e-05 - accuracy: 1.0000 - val_loss: 0.7641 - val_accuracy: 0.9010\n",
      "Epoch 77/100\n",
      "37/37 [==============================] - 1s 39ms/step - loss: 8.2166e-05 - accuracy: 1.0000 - val_loss: 0.7670 - val_accuracy: 0.9010\n",
      "Epoch 78/100\n",
      "37/37 [==============================] - 1s 39ms/step - loss: 7.9188e-05 - accuracy: 1.0000 - val_loss: 0.7697 - val_accuracy: 0.9010\n",
      "Epoch 79/100\n",
      "37/37 [==============================] - 1s 35ms/step - loss: 7.7422e-05 - accuracy: 1.0000 - val_loss: 0.7726 - val_accuracy: 0.9010\n",
      "Epoch 80/100\n",
      "37/37 [==============================] - 1s 38ms/step - loss: 7.4976e-05 - accuracy: 1.0000 - val_loss: 0.7756 - val_accuracy: 0.9010\n",
      "Epoch 81/100\n",
      "37/37 [==============================] - 1s 37ms/step - loss: 7.1597e-05 - accuracy: 1.0000 - val_loss: 0.7782 - val_accuracy: 0.9010\n",
      "Epoch 82/100\n",
      "37/37 [==============================] - 1s 40ms/step - loss: 6.9991e-05 - accuracy: 1.0000 - val_loss: 0.7807 - val_accuracy: 0.9010\n",
      "Epoch 83/100\n",
      "37/37 [==============================] - 1s 39ms/step - loss: 6.8385e-05 - accuracy: 1.0000 - val_loss: 0.7838 - val_accuracy: 0.9010\n",
      "Epoch 84/100\n",
      "37/37 [==============================] - 1s 37ms/step - loss: 6.6314e-05 - accuracy: 1.0000 - val_loss: 0.7867 - val_accuracy: 0.9010\n",
      "Epoch 85/100\n",
      "37/37 [==============================] - 1s 35ms/step - loss: 6.3003e-05 - accuracy: 1.0000 - val_loss: 0.7894 - val_accuracy: 0.9010\n",
      "Epoch 86/100\n",
      "37/37 [==============================] - 1s 37ms/step - loss: 6.1431e-05 - accuracy: 1.0000 - val_loss: 0.7918 - val_accuracy: 0.9010\n",
      "Epoch 87/100\n",
      "37/37 [==============================] - 1s 37ms/step - loss: 5.9308e-05 - accuracy: 1.0000 - val_loss: 0.7940 - val_accuracy: 0.9010\n",
      "Epoch 88/100\n",
      "37/37 [==============================] - 1s 38ms/step - loss: 5.7472e-05 - accuracy: 1.0000 - val_loss: 0.7963 - val_accuracy: 0.9010\n",
      "Epoch 89/100\n",
      "37/37 [==============================] - 1s 38ms/step - loss: 5.5765e-05 - accuracy: 1.0000 - val_loss: 0.7985 - val_accuracy: 0.9010\n",
      "Epoch 90/100\n",
      "37/37 [==============================] - 1s 39ms/step - loss: 5.4686e-05 - accuracy: 1.0000 - val_loss: 0.8007 - val_accuracy: 0.9010\n",
      "Epoch 91/100\n",
      "37/37 [==============================] - 1s 38ms/step - loss: 5.2692e-05 - accuracy: 1.0000 - val_loss: 0.8032 - val_accuracy: 0.9010\n",
      "Epoch 92/100\n",
      "37/37 [==============================] - 1s 35ms/step - loss: 5.1171e-05 - accuracy: 1.0000 - val_loss: 0.8055 - val_accuracy: 0.9010\n",
      "Epoch 93/100\n",
      "37/37 [==============================] - 1s 39ms/step - loss: 4.9122e-05 - accuracy: 1.0000 - val_loss: 0.8077 - val_accuracy: 0.9010\n",
      "Epoch 94/100\n",
      "37/37 [==============================] - 1s 36ms/step - loss: 4.8387e-05 - accuracy: 1.0000 - val_loss: 0.8102 - val_accuracy: 0.9010\n",
      "Epoch 95/100\n",
      "37/37 [==============================] - 1s 37ms/step - loss: 4.6965e-05 - accuracy: 1.0000 - val_loss: 0.8123 - val_accuracy: 0.9010\n",
      "Epoch 96/100\n",
      "37/37 [==============================] - 1s 37ms/step - loss: 4.5546e-05 - accuracy: 1.0000 - val_loss: 0.8145 - val_accuracy: 0.9010\n",
      "Epoch 97/100\n",
      "37/37 [==============================] - 1s 35ms/step - loss: 4.4989e-05 - accuracy: 1.0000 - val_loss: 0.8183 - val_accuracy: 0.9010\n",
      "Epoch 98/100\n",
      "37/37 [==============================] - 1s 35ms/step - loss: 4.3829e-05 - accuracy: 1.0000 - val_loss: 0.8216 - val_accuracy: 0.9010\n",
      "Epoch 99/100\n",
      "37/37 [==============================] - 1s 36ms/step - loss: 4.1654e-05 - accuracy: 1.0000 - val_loss: 0.8236 - val_accuracy: 0.9010\n",
      "Epoch 100/100\n",
      "37/37 [==============================] - 1s 36ms/step - loss: 4.0618e-05 - accuracy: 1.0000 - val_loss: 0.8259 - val_accuracy: 0.9010\n"
     ]
    }
   ],
   "source": [
    "# run the model on y_train and y_test\n",
    "num_epochs = 100\n",
    "history = model.fit(padded, y_train_arr, epochs=num_epochs, validation_data=(testing_padded, y_test_arr), batch_size=32)"
   ]
  },
  {
   "cell_type": "code",
   "execution_count": 317,
   "metadata": {},
   "outputs": [
    {
     "data": {
      "image/png": "[encoded data removed]",
      "text/plain": [
       "<Figure size 432x288 with 1 Axes>"
      ]
     },
     "metadata": {
      "needs_background": "light"
     },
     "output_type": "display_data"
    },
    {
     "data": {
      "image/png": "[encoded data removed]",
      "text/plain": [
       "<Figure size 432x288 with 1 Axes>"
      ]
     },
     "metadata": {
      "needs_background": "light"
     },
     "output_type": "display_data"
    }
   ],
   "source": [
    "import matplotlib.pyplot as plt\n",
    "\n",
    "# Extract accuracy and loss data for training and validation sets\n",
    "acc = history.history['accuracy']\n",
    "val_acc = history.history['val_accuracy']\n",
    "loss = history.history['loss']\n",
    "val_loss = history.history['val_loss']\n",
    "\n",
    "# Plot training and validation accuracy\n",
    "plt.plot(acc)\n",
    "plt.plot(val_acc)\n",
    "plt.title('Model Accuracy')\n",
    "plt.xlabel('Epoch')\n",
    "plt.ylabel('Accuracy')\n",
    "plt.legend(['Train', 'Validation'], loc='lower right')\n",
    "plt.show()\n",
    "\n",
    "# Plot training and validation loss\n",
    "plt.plot(loss)\n",
    "plt.plot(val_loss)\n",
    "plt.title('Model Loss')\n",
    "plt.xlabel('Epoch')\n",
    "plt.ylabel('Loss')\n",
    "plt.legend(['Train', 'Validation'], loc='upper right')\n",
    "plt.show()"
   ]
  }
 ],
 "metadata": {
  "kernelspec": {
   "display_name": "Python 3",
   "language": "python",
   "name": "python3"
  },
  "language_info": {
   "codemirror_mode": {
    "name": "ipython",
    "version": 3
   },
   "file_extension": ".py",
   "mimetype": "text/x-python",
   "name": "python",
   "nbconvert_exporter": "python",
   "pygments_lexer": "ipython3",
   "version": "3.10.6"
  },
  "orig_nbformat": 4
 },
 "nbformat": 4,
 "nbformat_minor": 2
}
